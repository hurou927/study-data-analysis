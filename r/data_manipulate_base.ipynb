{
 "cells": [
  {
   "cell_type": "code",
   "execution_count": 2,
   "metadata": {},
   "outputs": [],
   "source": [
    "library(tidyverse)"
   ]
  },
  {
   "cell_type": "code",
   "execution_count": 134,
   "metadata": {},
   "outputs": [],
   "source": [
    "createSample <- function() {\n",
    "    data.frame(\n",
    "        city = c(\"Tokyo\", \"Osaka\", \"Nagoya\", \"Fukuoka\", \"Nagasaki\"),\n",
    "        temp = c(28, 26, 21, 18, 21),\n",
    "        weather = c(\"Fine\", \"Cloudy\", \"Cloudy\", \"Rain\", \"Fine\"),\n",
    "        other = c(1,2,4,3,2) )\n",
    "}\n"
   ]
  },
  {
   "cell_type": "code",
   "execution_count": 101,
   "metadata": {},
   "outputs": [
    {
     "data": {
      "text/html": [
       "<table>\n",
       "<caption>A data.frame: 4 × 4</caption>\n",
       "<thead>\n",
       "\t<tr><th scope=col>city</th><th scope=col>temp</th><th scope=col>weather</th><th scope=col>other</th></tr>\n",
       "\t<tr><th scope=col>&lt;fct&gt;</th><th scope=col>&lt;dbl&gt;</th><th scope=col>&lt;fct&gt;</th><th scope=col>&lt;dbl&gt;</th></tr>\n",
       "</thead>\n",
       "<tbody>\n",
       "\t<tr><td>Tokyo  </td><td>27</td><td>Fine  </td><td>1</td></tr>\n",
       "\t<tr><td>Osaka  </td><td>26</td><td>Cloudy</td><td>2</td></tr>\n",
       "\t<tr><td>Nagoya </td><td>21</td><td>Cloudy</td><td>4</td></tr>\n",
       "\t<tr><td>Fukuoka</td><td>20</td><td>Rain  </td><td>3</td></tr>\n",
       "</tbody>\n",
       "</table>\n"
      ],
      "text/latex": [
       "A data.frame: 4 × 4\n",
       "\\begin{tabular}{llll}\n",
       " city & temp & weather & other\\\\\n",
       " <fct> & <dbl> & <fct> & <dbl>\\\\\n",
       "\\hline\n",
       "\t Tokyo   & 27 & Fine   & 1\\\\\n",
       "\t Osaka   & 26 & Cloudy & 2\\\\\n",
       "\t Nagoya  & 21 & Cloudy & 4\\\\\n",
       "\t Fukuoka & 20 & Rain   & 3\\\\\n",
       "\\end{tabular}\n"
      ],
      "text/markdown": [
       "\n",
       "A data.frame: 4 × 4\n",
       "\n",
       "| city &lt;fct&gt; | temp &lt;dbl&gt; | weather &lt;fct&gt; | other &lt;dbl&gt; |\n",
       "|---|---|---|---|\n",
       "| Tokyo   | 27 | Fine   | 1 |\n",
       "| Osaka   | 26 | Cloudy | 2 |\n",
       "| Nagoya  | 21 | Cloudy | 4 |\n",
       "| Fukuoka | 20 | Rain   | 3 |\n",
       "\n"
      ],
      "text/plain": [
       "  city    temp weather other\n",
       "1 Tokyo   27   Fine    1    \n",
       "2 Osaka   26   Cloudy  2    \n",
       "3 Nagoya  21   Cloudy  4    \n",
       "4 Fukuoka 20   Rain    3    "
      ]
     },
     "metadata": {},
     "output_type": "display_data"
    }
   ],
   "source": [
    "df <- createSample()\n",
    "df$temp <- df$temp %>%\n",
    "    map_if(~ .x>27, ~ 27) %>%\n",
    "    map_if(~ .x<20, ~20) %>% unlist()\n",
    "\n",
    "df"
   ]
  },
  {
   "cell_type": "code",
   "execution_count": 166,
   "metadata": {},
   "outputs": [
    {
     "data": {
      "text/html": [
       "<table>\n",
       "<caption>A data.frame: 10 × 5</caption>\n",
       "<thead>\n",
       "\t<tr><th scope=col>Tokyo</th><th scope=col>Osaka</th><th scope=col>Nagoya</th><th scope=col>Fukuoka</th><th scope=col>Nagasaki</th></tr>\n",
       "\t<tr><th scope=col>&lt;dbl&gt;</th><th scope=col>&lt;dbl&gt;</th><th scope=col>&lt;dbl&gt;</th><th scope=col>&lt;dbl&gt;</th><th scope=col>&lt;dbl&gt;</th></tr>\n",
       "</thead>\n",
       "<tbody>\n",
       "\t<tr><td>27.02056</td><td>23.55369</td><td>24.87976</td><td>18.91426</td><td>25.48404</td></tr>\n",
       "\t<tr><td>29.52677</td><td>29.50776</td><td>26.86782</td><td>18.43987</td><td>20.94274</td></tr>\n",
       "\t<tr><td>28.14315</td><td>25.19702</td><td>17.33723</td><td>17.97630</td><td>22.93258</td></tr>\n",
       "\t<tr><td>28.37630</td><td>23.84622</td><td>12.40073</td><td>17.28539</td><td>20.72057</td></tr>\n",
       "\t<tr><td>27.07139</td><td>24.05022</td><td>18.88641</td><td>15.51579</td><td>20.95798</td></tr>\n",
       "\t<tr><td>27.37969</td><td>27.52414</td><td>20.26840</td><td>18.19778</td><td>19.18039</td></tr>\n",
       "\t<tr><td>29.11207</td><td>26.91791</td><td>21.94734</td><td>19.17691</td><td>19.65443</td></tr>\n",
       "\t<tr><td>26.81434</td><td>27.97376</td><td>13.69377</td><td>12.01106</td><td>21.99256</td></tr>\n",
       "\t<tr><td>28.61012</td><td>28.58712</td><td>24.75146</td><td>16.74381</td><td>21.38682</td></tr>\n",
       "\t<tr><td>28.96141</td><td>25.11215</td><td>18.40218</td><td>15.95518</td><td>23.01392</td></tr>\n",
       "</tbody>\n",
       "</table>\n"
      ],
      "text/latex": [
       "A data.frame: 10 × 5\n",
       "\\begin{tabular}{lllll}\n",
       " Tokyo & Osaka & Nagoya & Fukuoka & Nagasaki\\\\\n",
       " <dbl> & <dbl> & <dbl> & <dbl> & <dbl>\\\\\n",
       "\\hline\n",
       "\t 27.02056 & 23.55369 & 24.87976 & 18.91426 & 25.48404\\\\\n",
       "\t 29.52677 & 29.50776 & 26.86782 & 18.43987 & 20.94274\\\\\n",
       "\t 28.14315 & 25.19702 & 17.33723 & 17.97630 & 22.93258\\\\\n",
       "\t 28.37630 & 23.84622 & 12.40073 & 17.28539 & 20.72057\\\\\n",
       "\t 27.07139 & 24.05022 & 18.88641 & 15.51579 & 20.95798\\\\\n",
       "\t 27.37969 & 27.52414 & 20.26840 & 18.19778 & 19.18039\\\\\n",
       "\t 29.11207 & 26.91791 & 21.94734 & 19.17691 & 19.65443\\\\\n",
       "\t 26.81434 & 27.97376 & 13.69377 & 12.01106 & 21.99256\\\\\n",
       "\t 28.61012 & 28.58712 & 24.75146 & 16.74381 & 21.38682\\\\\n",
       "\t 28.96141 & 25.11215 & 18.40218 & 15.95518 & 23.01392\\\\\n",
       "\\end{tabular}\n"
      ],
      "text/markdown": [
       "\n",
       "A data.frame: 10 × 5\n",
       "\n",
       "| Tokyo &lt;dbl&gt; | Osaka &lt;dbl&gt; | Nagoya &lt;dbl&gt; | Fukuoka &lt;dbl&gt; | Nagasaki &lt;dbl&gt; |\n",
       "|---|---|---|---|---|\n",
       "| 27.02056 | 23.55369 | 24.87976 | 18.91426 | 25.48404 |\n",
       "| 29.52677 | 29.50776 | 26.86782 | 18.43987 | 20.94274 |\n",
       "| 28.14315 | 25.19702 | 17.33723 | 17.97630 | 22.93258 |\n",
       "| 28.37630 | 23.84622 | 12.40073 | 17.28539 | 20.72057 |\n",
       "| 27.07139 | 24.05022 | 18.88641 | 15.51579 | 20.95798 |\n",
       "| 27.37969 | 27.52414 | 20.26840 | 18.19778 | 19.18039 |\n",
       "| 29.11207 | 26.91791 | 21.94734 | 19.17691 | 19.65443 |\n",
       "| 26.81434 | 27.97376 | 13.69377 | 12.01106 | 21.99256 |\n",
       "| 28.61012 | 28.58712 | 24.75146 | 16.74381 | 21.38682 |\n",
       "| 28.96141 | 25.11215 | 18.40218 | 15.95518 | 23.01392 |\n",
       "\n"
      ],
      "text/plain": [
       "   Tokyo    Osaka    Nagoya   Fukuoka  Nagasaki\n",
       "1  27.02056 23.55369 24.87976 18.91426 25.48404\n",
       "2  29.52677 29.50776 26.86782 18.43987 20.94274\n",
       "3  28.14315 25.19702 17.33723 17.97630 22.93258\n",
       "4  28.37630 23.84622 12.40073 17.28539 20.72057\n",
       "5  27.07139 24.05022 18.88641 15.51579 20.95798\n",
       "6  27.37969 27.52414 20.26840 18.19778 19.18039\n",
       "7  29.11207 26.91791 21.94734 19.17691 19.65443\n",
       "8  26.81434 27.97376 13.69377 12.01106 21.99256\n",
       "9  28.61012 28.58712 24.75146 16.74381 21.38682\n",
       "10 28.96141 25.11215 18.40218 15.95518 23.01392"
      ]
     },
     "metadata": {},
     "output_type": "display_data"
    }
   ],
   "source": [
    "df <- createSample()\n",
    "size <- 10\n",
    "df2 <- data.frame(matrix(nrow = size, ncol = 0))\n",
    "\n",
    "for(i in 1:length(df[[1]])) {\n",
    "    row <- df[i, ]\n",
    "    df2[as.character(row$city)] <- rnorm(size, row$temp, row$other)\n",
    "}\n",
    "\n",
    "df2"
   ]
  },
  {
   "cell_type": "code",
   "execution_count": 269,
   "metadata": {},
   "outputs": [
    {
     "data": {
      "text/html": [
       "<table>\n",
       "<caption>A data.frame: 10 × 5</caption>\n",
       "<thead>\n",
       "\t<tr><th scope=col>Tokyo</th><th scope=col>Osaka</th><th scope=col>Nagoya</th><th scope=col>Fukuoka</th><th scope=col>Nagasaki</th></tr>\n",
       "\t<tr><th scope=col>&lt;dbl&gt;</th><th scope=col>&lt;dbl&gt;</th><th scope=col>&lt;dbl&gt;</th><th scope=col>&lt;dbl&gt;</th><th scope=col>&lt;dbl&gt;</th></tr>\n",
       "</thead>\n",
       "<tbody>\n",
       "\t<tr><td>28.59649</td><td>25.74943</td><td>23.86687</td><td>17.05156</td><td>19.89037</td></tr>\n",
       "\t<tr><td>28.37454</td><td>29.10107</td><td>24.13029</td><td>18.43085</td><td>20.97532</td></tr>\n",
       "\t<tr><td>28.08962</td><td>29.41547</td><td>20.03316</td><td>11.62730</td><td>17.63327</td></tr>\n",
       "\t<tr><td>28.09482</td><td>24.77781</td><td>19.04963</td><td>20.36646</td><td>21.54558</td></tr>\n",
       "\t<tr><td>28.35150</td><td>24.68370</td><td>23.63310</td><td>19.12503</td><td>19.94358</td></tr>\n",
       "\t<tr><td>27.40088</td><td>26.39612</td><td>25.13979</td><td>20.22671</td><td>22.90182</td></tr>\n",
       "\t<tr><td>27.63442</td><td>25.17945</td><td>15.56189</td><td>18.19358</td><td>19.46696</td></tr>\n",
       "\t<tr><td>26.54699</td><td>26.73758</td><td>21.41399</td><td>24.70251</td><td>20.59870</td></tr>\n",
       "\t<tr><td>26.90215</td><td>25.38323</td><td>13.86729</td><td>18.23646</td><td>23.47562</td></tr>\n",
       "\t<tr><td>27.39115</td><td>23.79388</td><td>15.43966</td><td>18.15783</td><td>15.52844</td></tr>\n",
       "</tbody>\n",
       "</table>\n"
      ],
      "text/latex": [
       "A data.frame: 10 × 5\n",
       "\\begin{tabular}{lllll}\n",
       " Tokyo & Osaka & Nagoya & Fukuoka & Nagasaki\\\\\n",
       " <dbl> & <dbl> & <dbl> & <dbl> & <dbl>\\\\\n",
       "\\hline\n",
       "\t 28.59649 & 25.74943 & 23.86687 & 17.05156 & 19.89037\\\\\n",
       "\t 28.37454 & 29.10107 & 24.13029 & 18.43085 & 20.97532\\\\\n",
       "\t 28.08962 & 29.41547 & 20.03316 & 11.62730 & 17.63327\\\\\n",
       "\t 28.09482 & 24.77781 & 19.04963 & 20.36646 & 21.54558\\\\\n",
       "\t 28.35150 & 24.68370 & 23.63310 & 19.12503 & 19.94358\\\\\n",
       "\t 27.40088 & 26.39612 & 25.13979 & 20.22671 & 22.90182\\\\\n",
       "\t 27.63442 & 25.17945 & 15.56189 & 18.19358 & 19.46696\\\\\n",
       "\t 26.54699 & 26.73758 & 21.41399 & 24.70251 & 20.59870\\\\\n",
       "\t 26.90215 & 25.38323 & 13.86729 & 18.23646 & 23.47562\\\\\n",
       "\t 27.39115 & 23.79388 & 15.43966 & 18.15783 & 15.52844\\\\\n",
       "\\end{tabular}\n"
      ],
      "text/markdown": [
       "\n",
       "A data.frame: 10 × 5\n",
       "\n",
       "| Tokyo &lt;dbl&gt; | Osaka &lt;dbl&gt; | Nagoya &lt;dbl&gt; | Fukuoka &lt;dbl&gt; | Nagasaki &lt;dbl&gt; |\n",
       "|---|---|---|---|---|\n",
       "| 28.59649 | 25.74943 | 23.86687 | 17.05156 | 19.89037 |\n",
       "| 28.37454 | 29.10107 | 24.13029 | 18.43085 | 20.97532 |\n",
       "| 28.08962 | 29.41547 | 20.03316 | 11.62730 | 17.63327 |\n",
       "| 28.09482 | 24.77781 | 19.04963 | 20.36646 | 21.54558 |\n",
       "| 28.35150 | 24.68370 | 23.63310 | 19.12503 | 19.94358 |\n",
       "| 27.40088 | 26.39612 | 25.13979 | 20.22671 | 22.90182 |\n",
       "| 27.63442 | 25.17945 | 15.56189 | 18.19358 | 19.46696 |\n",
       "| 26.54699 | 26.73758 | 21.41399 | 24.70251 | 20.59870 |\n",
       "| 26.90215 | 25.38323 | 13.86729 | 18.23646 | 23.47562 |\n",
       "| 27.39115 | 23.79388 | 15.43966 | 18.15783 | 15.52844 |\n",
       "\n"
      ],
      "text/plain": [
       "   Tokyo    Osaka    Nagoya   Fukuoka  Nagasaki\n",
       "1  28.59649 25.74943 23.86687 17.05156 19.89037\n",
       "2  28.37454 29.10107 24.13029 18.43085 20.97532\n",
       "3  28.08962 29.41547 20.03316 11.62730 17.63327\n",
       "4  28.09482 24.77781 19.04963 20.36646 21.54558\n",
       "5  28.35150 24.68370 23.63310 19.12503 19.94358\n",
       "6  27.40088 26.39612 25.13979 20.22671 22.90182\n",
       "7  27.63442 25.17945 15.56189 18.19358 19.46696\n",
       "8  26.54699 26.73758 21.41399 24.70251 20.59870\n",
       "9  26.90215 25.38323 13.86729 18.23646 23.47562\n",
       "10 27.39115 23.79388 15.43966 18.15783 15.52844"
      ]
     },
     "metadata": {},
     "output_type": "display_data"
    }
   ],
   "source": [
    "df <- createSample()\n",
    "size <- 10\n",
    "\n",
    "df2 <- df %>% select(temp, other) %>% apply(1, function(x){rnorm(size, x[1], x[2])}) %>% data.frame()\n",
    "names(df2) <- df$city\n",
    "\n",
    "cols <- length(df2)\n",
    "df2\n"
   ]
  },
  {
   "cell_type": "code",
   "execution_count": 270,
   "metadata": {},
   "outputs": [
    {
     "data": {
      "text/html": [
       "<table>\n",
       "<caption>A data.frame: 10 × 8</caption>\n",
       "<thead>\n",
       "\t<tr><th scope=col>Tokyo</th><th scope=col>Osaka</th><th scope=col>Nagoya</th><th scope=col>Fukuoka</th><th scope=col>Nagasaki</th><th scope=col>top_r</th><th scope=col>top</th><th scope=col>c</th></tr>\n",
       "\t<tr><th scope=col>&lt;dbl&gt;</th><th scope=col>&lt;dbl&gt;</th><th scope=col>&lt;dbl&gt;</th><th scope=col>&lt;dbl&gt;</th><th scope=col>&lt;dbl&gt;</th><th scope=col>&lt;chr&gt;</th><th scope=col>&lt;dbl&gt;</th><th scope=col>&lt;dbl&gt;</th></tr>\n",
       "</thead>\n",
       "<tbody>\n",
       "\t<tr><td>28.59649</td><td>25.74943</td><td>23.86687</td><td>17.05156</td><td>19.89037</td><td>Tokyo</td><td>28.59649</td><td>1</td></tr>\n",
       "\t<tr><td>28.37454</td><td>29.10107</td><td>24.13029</td><td>18.43085</td><td>20.97532</td><td>Osaka</td><td>29.10107</td><td>1</td></tr>\n",
       "\t<tr><td>28.08962</td><td>29.41547</td><td>20.03316</td><td>11.62730</td><td>17.63327</td><td>Osaka</td><td>29.41547</td><td>1</td></tr>\n",
       "\t<tr><td>28.09482</td><td>24.77781</td><td>19.04963</td><td>20.36646</td><td>21.54558</td><td>Tokyo</td><td>28.09482</td><td>1</td></tr>\n",
       "\t<tr><td>28.35150</td><td>24.68370</td><td>23.63310</td><td>19.12503</td><td>19.94358</td><td>Tokyo</td><td>28.35150</td><td>1</td></tr>\n",
       "\t<tr><td>27.40088</td><td>26.39612</td><td>25.13979</td><td>20.22671</td><td>22.90182</td><td>Tokyo</td><td>27.40088</td><td>1</td></tr>\n",
       "\t<tr><td>27.63442</td><td>25.17945</td><td>15.56189</td><td>18.19358</td><td>19.46696</td><td>Tokyo</td><td>27.63442</td><td>1</td></tr>\n",
       "\t<tr><td>26.54699</td><td>26.73758</td><td>21.41399</td><td>24.70251</td><td>20.59870</td><td>Osaka</td><td>26.73758</td><td>1</td></tr>\n",
       "\t<tr><td>26.90215</td><td>25.38323</td><td>13.86729</td><td>18.23646</td><td>23.47562</td><td>Tokyo</td><td>26.90215</td><td>1</td></tr>\n",
       "\t<tr><td>27.39115</td><td>23.79388</td><td>15.43966</td><td>18.15783</td><td>15.52844</td><td>Tokyo</td><td>27.39115</td><td>1</td></tr>\n",
       "</tbody>\n",
       "</table>\n"
      ],
      "text/latex": [
       "A data.frame: 10 × 8\n",
       "\\begin{tabular}{llllllll}\n",
       " Tokyo & Osaka & Nagoya & Fukuoka & Nagasaki & top\\_r & top & c\\\\\n",
       " <dbl> & <dbl> & <dbl> & <dbl> & <dbl> & <chr> & <dbl> & <dbl>\\\\\n",
       "\\hline\n",
       "\t 28.59649 & 25.74943 & 23.86687 & 17.05156 & 19.89037 & Tokyo & 28.59649 & 1\\\\\n",
       "\t 28.37454 & 29.10107 & 24.13029 & 18.43085 & 20.97532 & Osaka & 29.10107 & 1\\\\\n",
       "\t 28.08962 & 29.41547 & 20.03316 & 11.62730 & 17.63327 & Osaka & 29.41547 & 1\\\\\n",
       "\t 28.09482 & 24.77781 & 19.04963 & 20.36646 & 21.54558 & Tokyo & 28.09482 & 1\\\\\n",
       "\t 28.35150 & 24.68370 & 23.63310 & 19.12503 & 19.94358 & Tokyo & 28.35150 & 1\\\\\n",
       "\t 27.40088 & 26.39612 & 25.13979 & 20.22671 & 22.90182 & Tokyo & 27.40088 & 1\\\\\n",
       "\t 27.63442 & 25.17945 & 15.56189 & 18.19358 & 19.46696 & Tokyo & 27.63442 & 1\\\\\n",
       "\t 26.54699 & 26.73758 & 21.41399 & 24.70251 & 20.59870 & Osaka & 26.73758 & 1\\\\\n",
       "\t 26.90215 & 25.38323 & 13.86729 & 18.23646 & 23.47562 & Tokyo & 26.90215 & 1\\\\\n",
       "\t 27.39115 & 23.79388 & 15.43966 & 18.15783 & 15.52844 & Tokyo & 27.39115 & 1\\\\\n",
       "\\end{tabular}\n"
      ],
      "text/markdown": [
       "\n",
       "A data.frame: 10 × 8\n",
       "\n",
       "| Tokyo &lt;dbl&gt; | Osaka &lt;dbl&gt; | Nagoya &lt;dbl&gt; | Fukuoka &lt;dbl&gt; | Nagasaki &lt;dbl&gt; | top_r &lt;chr&gt; | top &lt;dbl&gt; | c &lt;dbl&gt; |\n",
       "|---|---|---|---|---|---|---|---|\n",
       "| 28.59649 | 25.74943 | 23.86687 | 17.05156 | 19.89037 | Tokyo | 28.59649 | 1 |\n",
       "| 28.37454 | 29.10107 | 24.13029 | 18.43085 | 20.97532 | Osaka | 29.10107 | 1 |\n",
       "| 28.08962 | 29.41547 | 20.03316 | 11.62730 | 17.63327 | Osaka | 29.41547 | 1 |\n",
       "| 28.09482 | 24.77781 | 19.04963 | 20.36646 | 21.54558 | Tokyo | 28.09482 | 1 |\n",
       "| 28.35150 | 24.68370 | 23.63310 | 19.12503 | 19.94358 | Tokyo | 28.35150 | 1 |\n",
       "| 27.40088 | 26.39612 | 25.13979 | 20.22671 | 22.90182 | Tokyo | 27.40088 | 1 |\n",
       "| 27.63442 | 25.17945 | 15.56189 | 18.19358 | 19.46696 | Tokyo | 27.63442 | 1 |\n",
       "| 26.54699 | 26.73758 | 21.41399 | 24.70251 | 20.59870 | Osaka | 26.73758 | 1 |\n",
       "| 26.90215 | 25.38323 | 13.86729 | 18.23646 | 23.47562 | Tokyo | 26.90215 | 1 |\n",
       "| 27.39115 | 23.79388 | 15.43966 | 18.15783 | 15.52844 | Tokyo | 27.39115 | 1 |\n",
       "\n"
      ],
      "text/plain": [
       "   Tokyo    Osaka    Nagoya   Fukuoka  Nagasaki top_r top      c\n",
       "1  28.59649 25.74943 23.86687 17.05156 19.89037 Tokyo 28.59649 1\n",
       "2  28.37454 29.10107 24.13029 18.43085 20.97532 Osaka 29.10107 1\n",
       "3  28.08962 29.41547 20.03316 11.62730 17.63327 Osaka 29.41547 1\n",
       "4  28.09482 24.77781 19.04963 20.36646 21.54558 Tokyo 28.09482 1\n",
       "5  28.35150 24.68370 23.63310 19.12503 19.94358 Tokyo 28.35150 1\n",
       "6  27.40088 26.39612 25.13979 20.22671 22.90182 Tokyo 27.40088 1\n",
       "7  27.63442 25.17945 15.56189 18.19358 19.46696 Tokyo 27.63442 1\n",
       "8  26.54699 26.73758 21.41399 24.70251 20.59870 Osaka 26.73758 1\n",
       "9  26.90215 25.38323 13.86729 18.23646 23.47562 Tokyo 26.90215 1\n",
       "10 27.39115 23.79388 15.43966 18.15783 15.52844 Tokyo 27.39115 1"
      ]
     },
     "metadata": {},
     "output_type": "display_data"
    },
    {
     "data": {
      "text/html": [
       "27.9625506714799"
      ],
      "text/latex": [
       "27.9625506714799"
      ],
      "text/markdown": [
       "27.9625506714799"
      ],
      "text/plain": [
       "[1] 27.96255"
      ]
     },
     "metadata": {},
     "output_type": "display_data"
    },
    {
     "data": {
      "text/html": [
       "<table>\n",
       "<caption>A tibble: 2 × 2</caption>\n",
       "<thead>\n",
       "\t<tr><th scope=col>top_r</th><th scope=col>count</th></tr>\n",
       "\t<tr><th scope=col>&lt;chr&gt;</th><th scope=col>&lt;dbl&gt;</th></tr>\n",
       "</thead>\n",
       "<tbody>\n",
       "\t<tr><td>Osaka</td><td>3</td></tr>\n",
       "\t<tr><td>Tokyo</td><td>7</td></tr>\n",
       "</tbody>\n",
       "</table>\n"
      ],
      "text/latex": [
       "A tibble: 2 × 2\n",
       "\\begin{tabular}{ll}\n",
       " top\\_r & count\\\\\n",
       " <chr> & <dbl>\\\\\n",
       "\\hline\n",
       "\t Osaka & 3\\\\\n",
       "\t Tokyo & 7\\\\\n",
       "\\end{tabular}\n"
      ],
      "text/markdown": [
       "\n",
       "A tibble: 2 × 2\n",
       "\n",
       "| top_r &lt;chr&gt; | count &lt;dbl&gt; |\n",
       "|---|---|\n",
       "| Osaka | 3 |\n",
       "| Tokyo | 7 |\n",
       "\n"
      ],
      "text/plain": [
       "  top_r count\n",
       "1 Osaka 3    \n",
       "2 Tokyo 7    "
      ]
     },
     "metadata": {},
     "output_type": "display_data"
    }
   ],
   "source": [
    "df2 <- df2 %>%\n",
    "    mutate(top_r = apply(.[,1:cols] , 1, function(x) names(x)[which.max(x)]), top = apply(.[,1:cols] , 1, function(x) max(x))) %>%\n",
    "    mutate(c = 1)\n",
    "df2\n",
    "mean(df2$top)\n",
    "df2 %>% group_by(top_r) %>% summarize(count = sum(c))"
   ]
  },
  {
   "cell_type": "code",
   "execution_count": null,
   "metadata": {},
   "outputs": [],
   "source": []
  }
 ],
 "metadata": {
  "kernelspec": {
   "display_name": "R",
   "language": "R",
   "name": "ir"
  },
  "language_info": {
   "codemirror_mode": "r",
   "file_extension": ".r",
   "mimetype": "text/x-r-source",
   "name": "R",
   "pygments_lexer": "r",
   "version": "3.6.3"
  }
 },
 "nbformat": 4,
 "nbformat_minor": 4
}
